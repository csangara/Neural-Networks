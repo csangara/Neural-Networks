{
 "cells": [
  {
   "cell_type": "markdown",
   "metadata": {},
   "source": [
    "## McCulloch-Pitts Network\n",
    "\n",
    "The first neural network, the McCulloch-Pitts network, was developed in the 1940s. It takes a set of inputs, multiply these inputs by weights, and then outputs either a 0 or 1. If the sum of the products exceed the threshold, then an  output of 1 is returned. Otherwise, the output value is 0. In the case of 2 inputs, this means:\n",
    "\n",
    "$$\n",
    "output = \\left\\{ \\begin{array}{rl}\n",
    " 1 &\\mbox{ if $x_{1}w_{1} + x_{2}w_{2} \\geq threshold$} \\\\\n",
    " 0 &\\mbox{ if $x_{1}w_{1} + x_{2}w_{2} < threshold$}\n",
    "       \\end{array} \\right.\n",
    "$$\n",
    "\n",
    "Note that we can move the threshold to the left side:\n",
    "\n",
    "$x_{1}w_{1} + x_{2}w_{2} - threshold \\geq 0\\\\$\n",
    "\n",
    "And we can define a new term, the bias, as $b=-threshold$. For this entire tutorial, we will use the notation $w_{0}$ to denote the bias instead of $b$. We will also add another $x_{0}$ unit, the bias unit, which always equals 1, to go with the weight. So now the equation becomes: \n",
    "\n",
    "$x_{0}w_{0} + x_{1}w_{1} + x_{2}w_{2} \\geq 0$\n",
    "\n",
    "With this, we have to define three weights - $w_{0}$, $w_{1}$, $w_{2}$ - and we don't have to worry about the threshold.\n",
    "\n",
    "This type of network cannot learn--that is, the values of the weights must be determined beforehand and are fixed. Even so, they can be used to compute simple logical operators.\n",
    "\n",
    "Let us first try to make some logical operators using this simple, two-layer neural network."
   ]
  },
  {
   "cell_type": "code",
   "execution_count": 2,
   "metadata": {
    "collapsed": false
   },
   "outputs": [],
   "source": [
    "def McCulloch(weights):\n",
    "    '''Given a list of 3 weights [bias, w1, w2], return a\n",
    "    truth table dictionary'''\n",
    "    \n",
    "    # Initialization\n",
    "    truth_table = {(0,0):0, (0,1):0, (1,0):0, (1,1):0}\n",
    "    \n",
    "    for x1, x2 in truth_table:\n",
    "        # Sum of products of weight and input\n",
    "        output = weights[0] + x1*weights[1] + x2*weights[2]\n",
    "        \n",
    "        # Output exceeds threshold\n",
    "        if output >= 0:\n",
    "            truth_table[(x1, x2)] = 1\n",
    "    \n",
    "    return truth_table\n",
    "\n",
    "def displayTable(truth_table):\n",
    "    '''Given a truth table dictionary, display it nicely'''\n",
    "    \n",
    "    print()\n",
    "    print(' --------------------------')\n",
    "    print('|   x1   |   x2   | Output |')\n",
    "    print('|--------------------------|')\n",
    "    \n",
    "    for x1, x2 in truth_table:\n",
    "        print('|    {0}   |    {1}   |    {2}   |'.format(x1,x2,truth_table[(x1,x2)]))\n",
    "        \n",
    "    print(' --------------------------')\n",
    "    \n",
    "def determineLogic(truth_table):\n",
    "    '''Given a truth table dictionary, determine the\n",
    "    logical operator it represents'''\n",
    "\n",
    "    if truth_table[(0,0)] and truth_table[(1,1)]:\n",
    "        return 'invalid'\n",
    "    \n",
    "    elif truth_table[(0,0)]:\n",
    "        if truth_table[(0,1)] and truth_table[(1,0)]:\n",
    "            return 'NAND'\n",
    "        elif truth_table[(0,1)]:\n",
    "            return 'NOT x1'\n",
    "        elif truth_table[(1,0)]:\n",
    "            return 'NOT x2'\n",
    "        else:\n",
    "            return 'NOR'\n",
    "    \n",
    "    elif truth_table[(1,1)]:\n",
    "        if truth_table[(0,1)] and truth_table[(1,0)]:\n",
    "            return 'OR'\n",
    "        elif not (truth_table[(0,1)] or truth_table[(1,0)]):\n",
    "            return 'AND'\n",
    "        else:\n",
    "            return 'invalid'\n",
    "    \n",
    "    else:\n",
    "        return 'invalid'\n"
   ]
  },
  {
   "cell_type": "markdown",
   "metadata": {},
   "source": [
    "Try varying the values of the weights below!\n",
    "\n",
    "(The weight values has been set to give the AND operator.)"
   ]
  },
  {
   "cell_type": "code",
   "execution_count": 3,
   "metadata": {
    "collapsed": false
   },
   "outputs": [
    {
     "name": "stdout",
     "output_type": "stream",
     "text": [
      "\n",
      " --------------------------\n",
      "|   x1   |   x2   | Output |\n",
      "|--------------------------|\n",
      "|    0   |    1   |    0   |\n",
      "|    1   |    0   |    1   |\n",
      "|    0   |    0   |    1   |\n",
      "|    1   |    1   |    0   |\n",
      " --------------------------\n",
      "Logical operator: NOT x2\n"
     ]
    }
   ],
   "source": [
    "#################################\n",
    "# Vary the values of the weights!\n",
    "w0 = 0\n",
    "w1 = 0\n",
    "w2 = -2\n",
    "#################################\n",
    "\n",
    "truth_table = McCulloch([w0,w1,w2])\n",
    "displayTable(truth_table)\n",
    "print('Logical operator:', determineLogic(truth_table))"
   ]
  },
  {
   "cell_type": "markdown",
   "metadata": {},
   "source": [
    "Note that you would be able to create the AND, NAND, OR, NOR, and NOT gates.\n",
    "\n",
    "To create the XOR and XNOR gate, you would need another hidden layer."
   ]
  },
  {
   "cell_type": "markdown",
   "metadata": {},
   "source": [
    "## Perceptrons\n",
    "\n",
    "In the late 1950's, perceptrons were developed. For perceptrons, the threshold value can vary rather than being fixed, but the general idea is the same. The output value will be 1 if the sum of products of inputs and weights are greater or equal to the threshold, otherwise the output value is 0.\n",
    "\n",
    "The biggest difference between the perceptron and the McCulloch-Pitts network is that it is a learning algorithm. This means that you won't have to specify the weights anymore - as long as you can give the correct outputs to input, with enough iterations and training examples, the network can learn the weights by itself!\n",
    "\n",
    "The learning algorithm is as follows:\n",
    "\n",
    "1. If Output is correct, then no changes are made to the threshold or weights.\n",
    "2. If Output = 1 but should be 0, then increase threshold and decrease the weights.\n",
    "3. If Output = 0 but should be 1, then decrease threshold and increase the weights.\n",
    "\n",
    "The weights are only changed if the corresponding input is 1. That is, if $x_{1}=0$ and $x_{2}=1$, only $w_{2}$ will be updated.\n",
    "\n",
    "The learning algorithm (designed for computing logical operators) is implemented below. Note that the returned weights are in the format of $[-threshold, w_{1}, w_{2}]$. As explained earlier, $bias = -threshold$."
   ]
  },
  {
   "cell_type": "code",
   "execution_count": 4,
   "metadata": {
    "collapsed": false
   },
   "outputs": [],
   "source": [
    "from random import choice\n",
    "\n",
    "def perceptrons(truth_table, i):\n",
    "    '''Given a truth table dictionary, return the weights and threshold'''\n",
    "    \n",
    "    # Initialize weights and threshold\n",
    "    weights = [0,0]\n",
    "    t = 0\n",
    "    \n",
    "    for iterations in range(i):\n",
    "        \n",
    "        # Randomly choose the inputs and correct output\n",
    "        x1, x2 = choice(list(truth_table.keys()))\n",
    "        correct_output = truth_table[(x1,x2)]\n",
    "        \n",
    "        # Determine whether output exceeds threshold\n",
    "        if (weights[0]*x1 + weights[1]*x2) >= t:\n",
    "            output = 1\n",
    "        else:\n",
    "            output = 0\n",
    "        \n",
    "        # Learning algorithm: update the weights and threshold\n",
    "        # Only update weights if x1 or x2 is 1\n",
    "        weights[0] += (correct_output-output)*x1\n",
    "        weights[1] += (correct_output-output)*x2\n",
    "        t -= (correct_output-output)\n",
    "    \n",
    "    # Corresponds to [w0, w1, w2] in McCulloch-Pitts\n",
    "    return [-t] + weights\n",
    "\n",
    "def LogicToTruthTable(logic):\n",
    "    '''Given the logical operator, return the truth table\n",
    "    corresponding to that operator'''\n",
    "    \n",
    "    logic = logic.upper()\n",
    "    \n",
    "    if logic == 'AND':\n",
    "        truth_table = {(0,0):0, (0,1):0, (1,0):0, (1,1):1}\n",
    "        \n",
    "    elif logic == 'OR':\n",
    "        truth_table = {(0,0):0, (0,1):1, (1,0):1, (1,1):1}\n",
    "        \n",
    "    elif logic == 'NOR':\n",
    "        truth_table = {(0,0):1, (0,1):0, (1,0):0, (1,1):0}\n",
    "    \n",
    "    elif logic == 'NAND':\n",
    "        truth_table = {(0,0):1, (0,1):1, (1,0):1, (1,1):0}\n",
    "    \n",
    "    elif logic == 'NOT X1':\n",
    "        truth_table = {(0,0):1, (0,1):1, (1,0):0, (1,1):0}\n",
    "    \n",
    "    elif logic == 'NOT X2':\n",
    "        truth_table = {(0,0):1, (0,1):0, (1,0):1, (1,1):0}\n",
    "    \n",
    "    else:\n",
    "        return 'invalid input'\n",
    "    \n",
    "    return truth_table"
   ]
  },
  {
   "cell_type": "markdown",
   "metadata": {},
   "source": [
    "Now you can try to experiment by changing the logical operators below (AND, NAND, OR, NOR, NOT x1, and NOT x2), and see what values of weights are returned!\n",
    "\n",
    "The program also double-checks these weight values into the McCulloch-Pitts network."
   ]
  },
  {
   "cell_type": "code",
   "execution_count": 5,
   "metadata": {
    "collapsed": false
   },
   "outputs": [
    {
     "name": "stdout",
     "output_type": "stream",
     "text": [
      "Given logical operator:  AND\n",
      "Weights calculated by perceptron: [-3, 1, 2]\n",
      "\n",
      "Entering the calculated weights into the McCulloch Pitts network...\n",
      "\n",
      " --------------------------\n",
      "|   x1   |   x2   | Output |\n",
      "|--------------------------|\n",
      "|    0   |    1   |    0   |\n",
      "|    1   |    0   |    0   |\n",
      "|    0   |    0   |    0   |\n",
      "|    1   |    1   |    1   |\n",
      " --------------------------\n",
      "Logical operator: AND\n",
      "\n",
      "Perceptrons performed successfully.\n"
     ]
    }
   ],
   "source": [
    "###############################################\n",
    "# Try varying the logical operators!\n",
    "logical_operator = 'AND'\n",
    "\n",
    "###############################################\n",
    "\n",
    "print('Given logical operator: ', logical_operator)\n",
    "truth_table = LogicToTruthTable(logical_operator)\n",
    "weights = perceptrons(truth_table, 1000)\n",
    "print('Weights calculated by perceptron:', weights)\n",
    "print()\n",
    "\n",
    "# Double checking\n",
    "print('Entering the calculated weights into the McCulloch Pitts network...')\n",
    "truth_check = McCulloch(weights)\n",
    "displayTable(truth_check)\n",
    "print('Logical operator:', determineLogic(truth_check))\n",
    "\n",
    "print()\n",
    "if determineLogic(truth_check).upper() == logical_operator.upper():\n",
    "    print('Perceptrons performed successfully.')\n",
    "    \n",
    "else:\n",
    "    print('Perceptrons failed to perform successfully.')\n"
   ]
  },
  {
   "cell_type": "markdown",
   "metadata": {},
   "source": [
    "Now, let us move on to the next section: multi-layer neural networks!"
   ]
  },
  {
   "cell_type": "markdown",
   "metadata": {},
   "source": [
    "## References & Further Readings\n",
    "\n",
    "- [A Basic Introduction to Neural Networks](http://www.webpages.ttu.edu/dleverin/neural_network/neural_networks.html)\n",
    "- [Coursera: Machine Learning](https://www.coursera.org/learn/machine-learning)\n",
    "- [Neural Networks and Deep Learning: Chapter 1](http://neuralnetworksanddeeplearning.com/chap1.html)\n",
    "- [Single-layer Neural Networks (Perceptrons)](http://computing.dcu.ie/~humphrys/Notes/Neural/single.neural.html)\n",
    "- [Logic Gates](http://whatis.techtarget.com/definition/logic-gate-AND-OR-XOR-NOT-NAND-NOR-and-XNOR)"
   ]
  }
 ],
 "metadata": {
  "kernelspec": {
   "display_name": "Python 3",
   "language": "python",
   "name": "python3"
  },
  "language_info": {
   "codemirror_mode": {
    "name": "ipython",
    "version": 3
   },
   "file_extension": ".py",
   "mimetype": "text/x-python",
   "name": "python",
   "nbconvert_exporter": "python",
   "pygments_lexer": "ipython3",
   "version": "3.5.1"
  }
 },
 "nbformat": 4,
 "nbformat_minor": 0
}
