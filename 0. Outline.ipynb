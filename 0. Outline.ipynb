{
 "cells": [
  {
   "cell_type": "markdown",
   "metadata": {},
   "source": [
    "# Outline - Neural Networks\n",
    "(Note that the ones with asterisks are secondary and will only be done if time permits)\n",
    "\n",
    "1. Introduction\n",
    "    - What are neural networks\n",
    "    - Biologial motivation\n",
    "    - Notations\n",
    "    - Applications\n",
    "2. Single Layer Neural Networks\n",
    "    - McCulloch-Pitts Networks\n",
    "    - Perceptrons\n",
    "3. Multilayer Neural Networks\n",
    "    - The Sigmoid Function\n",
    "    - Gradient descent\n",
    "    - Feedforward backpropagation algorithm\n",
    "    - Implementation : Graph fitting & classification\n",
    "4. Deep learning*\n",
    "    - Convolutional networks*\n",
    "    - Implementation: Handwriting recognition*\n",
    "5. Improving Neural Networks*\n",
    "    - Regularization*\n",
    "    - Plotting learning curve*\n",
    "    - Gradient Checks*\n",
    "    - Other activation functions\n",
    "    - etc."
   ]
  }
 ],
 "metadata": {
  "kernelspec": {
   "display_name": "Python 3",
   "language": "python",
   "name": "python3"
  },
  "language_info": {
   "codemirror_mode": {
    "name": "ipython",
    "version": 3
   },
   "file_extension": ".py",
   "mimetype": "text/x-python",
   "name": "python",
   "nbconvert_exporter": "python",
   "pygments_lexer": "ipython3",
   "version": "3.5.1"
  }
 },
 "nbformat": 4,
 "nbformat_minor": 0
}
